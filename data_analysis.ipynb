{
 "cells": [
  {
   "cell_type": "markdown",
   "metadata": {},
   "source": [
    "# title\n",
    "## Task 1\n"
   ]
  },
  {
   "cell_type": "code",
   "execution_count": 1,
   "metadata": {},
   "outputs": [],
   "source": [
    "import data_frame_transform_class as dftr\n",
    "import db_utils\n",
    "import explore_df_class as exp\n",
    "import pandas as pd\n",
    "import plotter_class as pl\n",
    "import transform_columns_class as trc\n",
    "import yaml"
   ]
  },
  {
   "cell_type": "code",
   "execution_count": null,
   "metadata": {},
   "outputs": [],
   "source": [
    "def load_credentials():\n",
    "    \"\"\"\n",
    "    loads credentials to access the RDS database, to be passed as an argument into the RDSDatabaseConnector class\n",
    "    \"\"\"\n",
    "\n",
    "    file_path = \"C:/Users/Caroline/Documents/finance_project/exploratory-data-analysis---customer-loans-in-finance994/credentials.yaml\"\n",
    "    with open(file_path, \"r\") as file:\n",
    "        credentials = yaml.safe_load(file)\n",
    "        return credentials\n",
    "    \n",
    "credentials = load_credentials()\n",
    "test_database = db_utils.RDSDatabaseConnector(credentials)\n",
    "test_database.initialise_SQLAlchemy()\n",
    "test_database.create_df()\n",
    "test_database.save_data(\"loan_payments.csv\") "
   ]
  },
  {
   "cell_type": "code",
   "execution_count": null,
   "metadata": {},
   "outputs": [],
   "source": [
    "def load_df(filename):\n",
    "    df = pd.read_csv(filename)\n",
    "    return df\n",
    "\n",
    "new_df = load_df(\"C:/Users/Caroline/Documents/finance_project/exploratory-data-analysis---customer-loans-in-finance994/loan_payments.csv\")\n",
    "exp.DataFrameInfo.shape_df(new_df)\n",
    "\n",
    "## checking no duplicate rows\n",
    "exp.DataFrameInfo.print_unique_number(new_df, \"id\")\n",
    "\n",
    "## check max value to decide best int type\n",
    "exp.DataFrameInfo.describe_data(new_df, [\"loan_amount\", \"funded_amount\", \"dti\"])\n",
    "\n",
    "\n"
   ]
  },
  {
   "cell_type": "code",
   "execution_count": null,
   "metadata": {},
   "outputs": [],
   "source": [
    "\n",
    "## 0 transform id to int32 for memory efficiency\n",
    "trc.DataTransform.transform_dtype(new_df, \"id\", \"int32\")\n",
    "\n",
    "## 1 transform member_id to int32 for memory efficiency\n",
    "trc.DataTransform.transform_dtype(new_df, \"member_id\", \"int32\")\n",
    "\n",
    "## 2 transform loan_amount to int16 for memory efficiency\n",
    "trc.DataTransform.transform_dtype(new_df, \"loan_amount\", \"int16\")\n",
    "\n",
    "## 3 transform funded_amount to float16 for memory efficiency\n",
    "trc.DataTransform.transform_dtype(new_df, \"funded_amount\", \"float16\")\n",
    "\n",
    "## 4 transform funded_amount_inv to float16 for memory efficiency\n",
    "trc.DataTransform.transform_dtype(new_df, \"funded_amount_inv\", \"float16\")\n",
    "\n",
    "## 5 remove 'months' from term column, change column name to include \"months\"\n",
    "trc.DataTransform.replace_col_entries(new_df, \"term\", \"months\", \"\")\n",
    "trc.DataTransform.rename_column(new_df, \"term\", \"term_months\")\n",
    "\n",
    "## 7 change instalment to float16 for memory efficiency\n",
    "trc.DataTransform.transform_dtype(new_df, \"instalment\", \"float16\")\n",
    "    \n",
    "## 8 transform grade to category\n",
    "trc.DataTransform.transform_dtype(new_df, \"grade\", \"category\")\n",
    "\n",
    "## 9 transform sub_grade to category\n",
    "trc.DataTransform.transform_dtype(new_df, \"sub_grade\", \"category\")\n",
    "\n",
    "## 10 transform employment_length to category and column name to employment_years (may want to bring together categories more later)\n",
    "trc.DataTransform.transform_dtype(new_df, \"sub_grade\", \"category\")\n",
    "trc.DataTransform.rename_column(new_df, \"employment_length\", \"employment_years\")\n",
    "\n",
    "## 11 transform home_ownership to category\n",
    "trc.DataTransform.transform_dtype(new_df, \"home_ownership\", \"category\")\n",
    "\n",
    "## 12 transform annual_inc to float32 for memory efficiency\n",
    "trc.DataTransform.transform_dtype(new_df, \"annual_inc\", \"float32\")\n",
    "\n",
    "## 13 transform verification_status to category\n",
    "trc.DataTransform.transform_dtype(new_df, \"verification_status\", \"category\")\n",
    "\n",
    "## 14 transform issue_date to datetime\n",
    "trc.DataTransform.transform_datetime(new_df, \"issue_date\")\n",
    "\n",
    "## 15 transform loan_status to category\n",
    "trc.DataTransform.transform_dtype(new_df, \"loan_status\", \"category\")\n",
    "\n",
    "## 16 transform payment_plan to category\n",
    "trc.DataTransform.transform_dtype(new_df, \"payment_plan\", \"category\")\n",
    "\n",
    "## 17 transform purpose to category\n",
    "trc.DataTransform.transform_dtype(new_df, \"purpose\", \"category\")\n",
    "\n",
    "## 19 transform delinq_2yrs to int8 for memory efficiency\n",
    "trc.DataTransform.transform_dtype(new_df, \"delinq_2yrs\", \"int8\")\n",
    "\n",
    "## 20 transform earliest_credit_line to datetime\n",
    "trc.DataTransform.transform_datetime(new_df, \"earliest_credit_line\")\n",
    "\n",
    "## 21 transform inq_last_6mths to int8 for memory efficiency\n",
    "trc.DataTransform.transform_dtype(new_df, \"inq_last_6mths\", \"int8\")\n",
    "\n",
    "## 22 transform mths_since_last_delinq to float16 (possibly could be integer?)\n",
    "trc.DataTransform.transform_dtype(new_df, \"mths_since_last_delinq\", \"float16\")\n",
    "\n",
    "## 23 transform mths_since_last_record to float16 (possibly could be integer?)\n",
    "trc.DataTransform.transform_dtype(new_df, \"mths_since_last_record\", \"float16\")\n",
    "\n",
    "## 24 transform open_accounts to int8 for memory efficiency\n",
    "trc.DataTransform.transform_dtype(new_df, \"open_accounts\", \"int8\")\n",
    "\n",
    "## 25 transform total_accounts to int8 for memory efficiency\n",
    "trc.DataTransform.transform_dtype(new_df, \"total_accounts\", \"int8\")\n",
    "\n",
    "## 26 transform out_prncp to float16 for memory efficiency\n",
    "trc.DataTransform.transform_dtype(new_df, \"out_prncp\", \"float16\")\n",
    "\n",
    "## 27 transform out_prncp_inv to float16 for memory efficiency\n",
    "trc.DataTransform.transform_dtype(new_df, \"out_prncp_inv\", \"float16\")\n",
    "\n",
    "## 28 transform total_payment to float16 for memory efficiency\n",
    "trc.DataTransform.transform_dtype(new_df, \"total_payment\", \"float16\")\n",
    "\n",
    "## 29 transform total_payment_inv to float16 for memory efficiency\n",
    "trc.DataTransform.transform_dtype(new_df, \"total_payment_inv\", \"float16\")\n",
    "\n",
    "## 30 transform total_rec_prncp to float16 for memory efficiency\n",
    "trc.DataTransform.transform_dtype(new_df, \"total_rec_prncp\", \"float16\")\n",
    "\n",
    "## 31 transform total_rec_int to float16 for memory efficiency\n",
    "trc.DataTransform.transform_dtype(new_df, \"total_rec_int\", \"float16\")\n",
    "\n",
    "## 32 transform total_rec_late_fee to float16 for memory efficiency\n",
    "trc.DataTransform.transform_dtype(new_df, \"total_rec_late_fee\", \"float16\")\n",
    "\n",
    "## 33 transform recoveries to float16 for memory efficiency\n",
    "trc.DataTransform.transform_dtype(new_df, \"recoveries\", \"float16\")\n",
    "\n",
    "## 34 transform collection_recovery_fee to float16 for memory efficiency\n",
    "trc.DataTransform.transform_dtype(new_df, \"collection_recovery_fee\", \"float16\")\n",
    "\n",
    "## 35 transform last_payment_date to datetime\n",
    "trc.DataTransform.transform_datetime(new_df, \"last_payment_date\")\n",
    "\n",
    "## 36 transform last_payment_amount to float16 for memory efficiency\n",
    "trc.DataTransform.transform_dtype(new_df, \"last_payment_amount\", \"float16\")\n",
    "\n",
    "## 37 transform next_payment_date to datetime\n",
    "trc.DataTransform.transform_datetime(new_df, \"next_payment_date\")\n",
    "\n",
    "## 38 transform last_credit_pull_date to datetime\n",
    "trc.DataTransform.transform_datetime(new_df, \"last_credit_pull_date\")\n",
    "\n",
    "## 39 transform collections_12_mths_ex_med to int8 for memory efficiency\n",
    "trc.DataTransform.transform_dtype(new_df, \"collections_12_mths_ex_med\", \"float16\")\n",
    "\n",
    "## 40 transform mths_since_last_major_derog to int8 for memory efficiency\n",
    "trc.DataTransform.transform_dtype(new_df, \"mths_since_last_major_derog\", \"float16\")\n",
    "\n",
    "## 41 transform policy_code to category\n",
    "trc.DataTransform.transform_dtype(new_df, \"policy_code\", \"category\")\n",
    "\n",
    "## 42 transform application_type to category\n",
    "trc.DataTransform.transform_dtype(new_df, \"application_type\", \"category\")\n",
    "\n",
    "\n",
    "\n",
    "## checking the changes\n",
    "exp.DataFrameInfo.column_info(new_df)\n",
    "exp.DataFrameInfo.print_head(new_df, \"last_payment_date\")\n",
    "exp.DataFrameInfo.print_head(new_df, \"term_months\")\n",
    "\n",
    "## saving the changes as a new .csv file\n",
    "exp.DataFrameInfo.save_changes(new_df, \"loan_payments_transformed_columns.csv\")"
   ]
  },
  {
   "cell_type": "code",
   "execution_count": null,
   "metadata": {},
   "outputs": [],
   "source": [
    "new_df = pd.read_csv(\"C:/Users/Caroline/Documents/finance_project/exploratory-data-analysis---customer-loans-in-finance994/loan_payments_transformed_columns.csv\")\n",
    "\n",
    "exp.DataFrameInfo.check_null_values(new_df)\n",
    "pl.Plotter.visualise_missing(new_df) \n",
    "\n",
    "    \n"
   ]
  },
  {
   "cell_type": "markdown",
   "metadata": {},
   "source": [
    "Having checked the missing data I dealt with the missing data in the following ways and checked that no columns or rows with missing data remained"
   ]
  },
  {
   "cell_type": "code",
   "execution_count": null,
   "metadata": {},
   "outputs": [],
   "source": [
    "## dropping 3 columns with high % missing data that are highly correlated on the graph\n",
    "## in reality would check if missing data should be 0 or not applicable in months columns\n",
    "## in reality would check the significance of these columns with domain expert\n",
    "dftr.DataFrameTransform.drop_column(new_df, \"mths_since_last_delinq\")\n",
    "dftr.DataFrameTransform.drop_column(new_df, \"mths_since_last_record\")\n",
    "dftr.DataFrameTransform.drop_column(new_df, \"mths_since_last_major_derog\")\n",
    "\n",
    "## dropping columns with missing data that are unlikely to be useful in the analysis\n",
    "dftr.DataFrameTransform.drop_column(new_df, \"next_payment_date\")\n",
    "dftr.DataFrameTransform.drop_column(new_df, \"last_payment_date\")\n",
    "dftr.DataFrameTransform.drop_column(new_df, \"term_months\")\n",
    "\n",
    "## dropping rows with missing data where could be important to keep the column\n",
    "dftr.DataFrameTransform.drop_rows_with_missing(new_df, \"last_credit_pull_date\")\n",
    "dftr.DataFrameTransform.drop_rows_with_missing(new_df, \"collections_12_mths_ex_med\")\n",
    "dftr.DataFrameTransform.drop_rows_with_missing(new_df, \"employment_years\")\n",
    "\n",
    "## filling missing values in the funded_amount column using the loan_amount column as 50283 matches\n",
    "dftr.DataFrameTransform.fill_missing_from_column(new_df, \"funded_amount\", \"loan_amount\")\n",
    "\n",
    "## fill missing values with the mean for int_rate column\n",
    "dftr.DataFrameTransform.impute_mean(new_df, \"int_rate\")\n",
    "\n",
    "## check columns and rows dropped successfully\n",
    "exp.DataFrameInfo.check_null_values(new_df)\n",
    "pl.Plotter.visualise_missing(new_df)"
   ]
  },
  {
   "cell_type": "markdown",
   "metadata": {},
   "source": [
    "## I then saved the changes to a new dataframe"
   ]
  },
  {
   "cell_type": "code",
   "execution_count": null,
   "metadata": {},
   "outputs": [],
   "source": [
    "## save the new df\n",
    "exp.DataFrameInfo.save_changes(new_df, \"loan_payments_complete_data.csv\")"
   ]
  },
  {
   "cell_type": "markdown",
   "metadata": {},
   "source": [
    "# Milestone 3 Task 4 - Transforming the Skewed Columns\n",
    "## I first loaded the new dataframe with no missing/null values and checked the skew\n"
   ]
  },
  {
   "cell_type": "code",
   "execution_count": null,
   "metadata": {},
   "outputs": [],
   "source": [
    "new_df = pd.read_csv(\"C:/Users/Caroline/Documents/finance_project/exploratory-data-analysis---customer-loans-in-finance994/loan_payments_complete_data.csv\")\n",
    "\n",
    "exp.DataFrameInfo.check_skew(new_df)"
   ]
  },
  {
   "cell_type": "markdown",
   "metadata": {},
   "source": [
    "### I classed a column as skewed if the result was not between -1 and 1.\n",
    "\n",
    "### I did not correct skew on all the skewed columns for these reasons:\n",
    "- id: not a value that will be analysed\n",
    "- member_id - not a value that will be analysed\n",
    "- last_payment_amount - I do not think this will be a relevant column to analyse\n",
    "- policy_code - this is a category \n"
   ]
  },
  {
   "cell_type": "code",
   "execution_count": null,
   "metadata": {},
   "outputs": [],
   "source": [
    "## exploring highly skewed columns further to consider making a categories\n",
    "\n",
    "exp.DataFrameInfo.print_unique_number(new_df, \"collections_12_mths_ex_med\")\n",
    "exp.DataFrameInfo.print_unique_number(new_df, \"collection_recovery_fee\") ## result - too many to transform to categories\n",
    "exp.DataFrameInfo.print_unique_number(new_df, \"recoveries\") ## result - too many to transform to categories\n",
    "exp.DataFrameInfo.print_unique_number(new_df, \"delinq_2yrs\")\n",
    "exp.DataFrameInfo.print_unique_number(new_df, \"inq_last_6mths\")\n",
    "exp.DataFrameInfo.print_unique_number(new_df, \"open_accounts\")\n",
    "\n",
    "\n",
    "exp.DataFrameInfo.print_unique(new_df, \"collections_12_mths_ex_med\")\n",
    "exp.DataFrameInfo.value_counts(new_df, \"collections_12_mths_ex_med\") ## result - transform to categories\n",
    "exp.DataFrameInfo.print_unique(new_df, \"delinq_2yrs\")\n",
    "exp.DataFrameInfo.value_counts(new_df, \"delinq_2yrs\") ## result - transform to categories\n",
    "exp.DataFrameInfo.print_unique(new_df, \"inq_last_6mths\")\n",
    "exp.DataFrameInfo.value_counts(new_df, \"inq_last_6mths\") ## result - transform to categories\n",
    "exp.DataFrameInfo.print_unique(new_df, \"open_accounts\")\n",
    "exp.DataFrameInfo.value_counts(new_df, \"open_accounts\") ## result - too many to transform to categories"
   ]
  },
  {
   "cell_type": "markdown",
   "metadata": {},
   "source": [
    "From these results I transformed columns with a relatively small number of unique values where most values were in a small range into categories, with the data split into bins.  "
   ]
  },
  {
   "cell_type": "code",
   "execution_count": null,
   "metadata": {},
   "outputs": [],
   "source": [
    "## transforming column to categories \n",
    "trc.DataTransform.transform_dtype(new_df, \"collections_12_mths_ex_med\", \"category\")\n",
    "\n",
    "## creating bins in columns and checking\n",
    "trc.DataTransform.cut_column(new_df, \"delinq_2yrs\", \"cat_delinq_2yrs\", [0, 1, 2, 3, 4, 5, float(\"inf\")], [\"0\", \"1\", \"2\", \"3\", \"4\", \"5+\"])\n",
    "exp.DataFrameInfo.column_info(new_df, \"cat_delinq_2yrs\")\n",
    "exp.DataFrameInfo.print_head(new_df, \"cat_delinq_2yrs\")\n",
    "exp.DataFrameInfo.value_counts(new_df, \"cat_delinq_2yrs\")\n",
    "\n",
    "trc.DataTransform.cut_column(new_df, \"inq_last_6mths\", \"cat_inq_last_6mths\", [0, 1, 2, 3, 4, 5, 6, 7, float(\"inf\")], [\"0\", \"1,\", \"2\", \"3\", \"4\", \"5\", \"6\", \"7+\"])\n",
    "exp.DataFrameInfo.column_info(new_df, \"cat_inq_last_6mths\")\n",
    "exp.DataFrameInfo.print_head(new_df, \"cat_inq_last_6mths\")\n",
    "exp.DataFrameInfo.value_counts(new_df, \"cat_inq_last_6mths\")\n"
   ]
  },
  {
   "cell_type": "code",
   "execution_count": null,
   "metadata": {},
   "outputs": [],
   "source": [
    "## dropping the old columns\n",
    "dftr.DataFrameTransform.drop_column(new_df, \"delinq_2yrs\")\n",
    "dftr.DataFrameTransform.drop_column(new_df, \"inq_last_6mths\")"
   ]
  },
  {
   "cell_type": "code",
   "execution_count": null,
   "metadata": {},
   "outputs": [],
   "source": [
    "## checking skew values again\n",
    "exp.DataFrameInfo.check_skew(new_df)"
   ]
  },
  {
   "cell_type": "code",
   "execution_count": null,
   "metadata": {},
   "outputs": [],
   "source": [
    "## plotting columns where skew value is outside range -1 to 1.\n",
    "\n",
    "\n",
    "\n",
    "pl.Plotter.histogram(new_df,\"total_rec_int\")\n",
    "pl.Plotter.histogram(new_df,\"total_rec_late_fee\")\n",
    "pl.Plotter.histogram(new_df,\"loan_amount\")\n",
    "pl.Plotter.histogram(new_df,\"annual_inc\")\n",
    "pl.Plotter.histogram(new_df, \"open_accounts\")\n",
    "pl.Plotter.histogram(new_df, \"out_prncp\")\n",
    "pl.Plotter.histogram(new_df, \"out_prncp_inv\")\n",
    "pl.Plotter.histogram(new_df, \"total_payment\")\n",
    "pl.Plotter.histogram(new_df, \"total_payment_inv\")\n",
    "pl.Plotter.histogram(new_df, \"total_rec_prncp\")\n",
    "pl.Plotter.histogram(new_df, \"recoveries\")\n",
    "pl.Plotter.histogram(new_df, \"collection_recovery_fee\")\n",
    "\n",
    "\n",
    "pl.Plotter.qq_plot(new_df,\"total_rec_int\")\n",
    "pl.Plotter.qq_plot(new_df,\"total_rec_late_fee\")\n",
    "pl.Plotter.qq_plot(new_df,\"loan_amount\")\n",
    "pl.Plotter.qq_plot(new_df,\"annual_inc\")\n",
    "pl.Plotter.qq_plot(new_df, \"open_accounts\")\n",
    "pl.Plotter.qq_plot(new_df, \"out_prncp\")\n",
    "pl.Plotter.qq_plot(new_df, \"out_prncp_inv\")\n",
    "pl.Plotter.qq_plot(new_df, \"total_payment\")\n",
    "pl.Plotter.qq_plot(new_df, \"total_payment_inv\")\n",
    "pl.Plotter.qq_plot(new_df, \"total_rec_prncp\")\n",
    "pl.Plotter.qq_plot(new_df, \"recoveries\")\n",
    "pl.Plotter.qq_plot(new_df, \"collection_recovery_fee\")\n",
    "\n"
   ]
  },
  {
   "cell_type": "code",
   "execution_count": null,
   "metadata": {},
   "outputs": [],
   "source": [
    "\n",
    "## transforming skewed columns \n",
    "\n",
    "## total_rec_interest - no negative values, right-tailed skew - log transform\n",
    "dftr.DataFrameTransform.log_transform(new_df, \"total_rec_int\")\n",
    "\n",
    "## total_rec_late_fee - do not transform as lots of values are 0 with only some customers having late fees\n",
    "\n",
    "## loan amount - has negative values (don't understand why - would check if need correcting). Yeo-Johnson\n",
    "dftr.DataFrameTransform.yeo_johnson_transform(new_df, \"loan_amount\")\n",
    "\n",
    "## annual income - all positive values, right-tailed skew - log transform\n",
    "dftr.DataFrameTransform.log_transform(new_df, \"annual_inc\")\n",
    "\n",
    "## open_accounts - no negative values, right-tailed skew - log transform\n",
    "dftr.DataFrameTransform.log_transform(new_df, \"open_accounts\")\n",
    "\n",
    "## out_prncp - no negative values, right-tailed skew - log transform\n",
    "dftr.DataFrameTransform.log_transform(new_df, \"out_prncp\")\n",
    "\n",
    "## out_prncp_inv - no negative values, right-tailed skew - log transform\n",
    "dftr.DataFrameTransform.log_transform(new_df, \"out_prncp_inv\")\n",
    "\n",
    "## total_payment - no negative values, right-tailed skew - log transform\n",
    "dftr.DataFrameTransform.log_transform(new_df, \"total_payment\")\n",
    "\n",
    "## total_payment_inv - no negative values, right-tailed skew - log transform\n",
    "dftr.DataFrameTransform.log_transform(new_df, \"total_payment_inv\")\n",
    "\n",
    "## total_rec_prncp - no negative values, right-tailed skew - log transform\n",
    "dftr.DataFrameTransform.log_transform(new_df, \"total_rec_prncp\")\n",
    "\n",
    "## recoveries - do not transform as lots of values are 0 with only some customers having recoveries\n",
    "\n",
    "## collection_recovery_fee - do not transform as lots of values are 0 with only some customers having recovery fees\n",
    "\n",
    "\n",
    "exp.DataFrameInfo.check_skew(new_df)\n",
    "\n"
   ]
  },
  {
   "cell_type": "markdown",
   "metadata": {},
   "source": []
  },
  {
   "cell_type": "code",
   "execution_count": null,
   "metadata": {},
   "outputs": [],
   "source": [
    "exp.DataFrameInfo.save_changes(new_df, \"loan_payments_skew_corrected.csv\")"
   ]
  },
  {
   "cell_type": "markdown",
   "metadata": {},
   "source": [
    "Milestone 3 Task 5\n",
    "Remove outliers from the data\n"
   ]
  },
  {
   "cell_type": "code",
   "execution_count": 3,
   "metadata": {},
   "outputs": [
    {
     "data": {
      "image/png": "[encoded data removed]",
      "text/plain": [
       "<Figure size 640x480 with 1 Axes>"
      ]
     },
     "metadata": {},
     "output_type": "display_data"
    },
    {
     "data": {
      "image/png": "[encoded data removed]",
      "text/plain": [
       "<Figure size 640x480 with 1 Axes>"
      ]
     },
     "metadata": {},
     "output_type": "display_data"
    },
    {
     "data": {
      "image/png": "[encoded data removed]",
      "text/plain": [
       "<Figure size 640x480 with 1 Axes>"
      ]
     },
     "metadata": {},
     "output_type": "display_data"
    },
    {
     "data": {
      "image/png": "[encoded data removed]",
      "text/plain": [
       "<Figure size 640x480 with 1 Axes>"
      ]
     },
     "metadata": {},
     "output_type": "display_data"
    },
    {
     "data": {
      "image/png": "[encoded data removed]",
      "text/plain": [
       "<Figure size 640x480 with 1 Axes>"
      ]
     },
     "metadata": {},
     "output_type": "display_data"
    },
    {
     "data": {
      "image/png": "[encoded data removed]",
      "text/plain": [
       "<Figure size 640x480 with 1 Axes>"
      ]
     },
     "metadata": {},
     "output_type": "display_data"
    },
    {
     "data": {
      "image/png": "[encoded data removed]",
      "text/plain": [
       "<Figure size 640x480 with 1 Axes>"
      ]
     },
     "metadata": {},
     "output_type": "display_data"
    },
    {
     "data": {
      "image/png": "[encoded data removed]",
      "text/plain": [
       "<Figure size 640x480 with 1 Axes>"
      ]
     },
     "metadata": {},
     "output_type": "display_data"
    },
    {
     "data": {
      "image/png": "[encoded data removed]",
      "text/plain": [
       "<Figure size 640x480 with 1 Axes>"
      ]
     },
     "metadata": {},
     "output_type": "display_data"
    },
    {
     "data": {
      "image/png": "[encoded data removed]",
      "text/plain": [
       "<Figure size 640x480 with 1 Axes>"
      ]
     },
     "metadata": {},
     "output_type": "display_data"
    },
    {
     "data": {
      "image/png": "[encoded data removed]",
      "text/plain": [
       "<Figure size 640x480 with 1 Axes>"
      ]
     },
     "metadata": {},
     "output_type": "display_data"
    },
    {
     "data": {
      "image/png": "[encoded data removed]",
      "text/plain": [
       "<Figure size 640x480 with 1 Axes>"
      ]
     },
     "metadata": {},
     "output_type": "display_data"
    },
    {
     "data": {
      "image/png": "[encoded data removed]",
      "text/plain": [
       "<Figure size 640x480 with 1 Axes>"
      ]
     },
     "metadata": {},
     "output_type": "display_data"
    }
   ],
   "source": [
    "new_df = pd.read_csv(\"C:/Users/Caroline/Documents/finance_project/exploratory-data-analysis---customer-loans-in-finance994/loan_payments_skew_corrected.csv\")\n",
    "\n",
    "pl.Plotter.box_plot(new_df, \"total_payment\")\n",
    "pl.Plotter.box_plot(new_df,\"total_rec_int\")\n",
    "pl.Plotter.box_plot(new_df,\"total_rec_late_fee\")\n",
    "pl.Plotter.box_plot(new_df,\"loan_amount\")\n",
    "pl.Plotter.box_plot(new_df,\"annual_inc\")\n",
    "pl.Plotter.box_plot(new_df, \"open_accounts\")\n",
    "pl.Plotter.box_plot(new_df, \"out_prncp\")\n",
    "pl.Plotter.box_plot(new_df, \"out_prncp_inv\")\n",
    "pl.Plotter.box_plot(new_df, \"total_payment\")\n",
    "pl.Plotter.box_plot(new_df, \"total_payment_inv\")\n",
    "pl.Plotter.box_plot(new_df, \"total_rec_prncp\")\n",
    "pl.Plotter.box_plot(new_df, \"recoveries\")\n",
    "pl.Plotter.box_plot(new_df, \"collection_recovery_fee\")"
   ]
  },
  {
   "cell_type": "markdown",
   "metadata": {},
   "source": [
    "There are no columns with clear isolated outliers so did not remove any (remove_outliers method in data_frame_transform_class.py)"
   ]
  },
  {
   "cell_type": "markdown",
   "metadata": {},
   "source": [
    "Milestone 3 Task 6 - Identify and drop overly correlated columns\n"
   ]
  },
  {
   "cell_type": "code",
   "execution_count": 6,
   "metadata": {},
   "outputs": [
    {
     "data": {
      "application/vnd.plotly.v1+json": {
       "config": {
        "plotlyServerURL": "https://plot.ly"
       },
       "data": [
        {
         "coloraxis": "coloraxis",
         "hovertemplate": "x: %{x}<br>y: %{y}<br>color: %{z}<extra></extra>",
         "name": "0",
         "type": "heatmap",
         "x": [
          "id",
          "member_id",
          "loan_amount",
          "funded_amount",
          "funded_amount_inv",
          "int_rate",
          "instalment",
          "grade",
          "sub_grade",
          "employment_years",
          "home_ownership",
          "annual_inc",
          "verification_status",
          "issue_date",
          "loan_status",
          "payment_plan",
          "purpose",
          "dti",
          "earliest_credit_line",
          "open_accounts",
          "total_accounts",
          "out_prncp",
          "out_prncp_inv",
          "total_payment",
          "total_payment_inv",
          "total_rec_prncp",
          "total_rec_int",
          "total_rec_late_fee",
          "recoveries",
          "collection_recovery_fee",
          "last_payment_amount",
          "last_credit_pull_date",
          "collections_12_mths_ex_med",
          "policy_code",
          "application_type",
          "cat_delinq_2yrs",
          "cat_inq_last_6mths"
         ],
         "xaxis": "x",
         "y": [
          "id",
          "member_id",
          "loan_amount",
          "funded_amount",
          "funded_amount_inv",
          "int_rate",
          "instalment",
          "grade",
          "sub_grade",
          "employment_years",
          "home_ownership",
          "annual_inc",
          "verification_status",
          "issue_date",
          "loan_status",
          "payment_plan",
          "purpose",
          "dti",
          "earliest_credit_line",
          "open_accounts",
          "total_accounts",
          "out_prncp",
          "out_prncp_inv",
          "total_payment",
          "total_payment_inv",
          "total_rec_prncp",
          "total_rec_int",
          "total_rec_late_fee",
          "recoveries",
          "collection_recovery_fee",
          "last_payment_amount",
          "last_credit_pull_date",
          "collections_12_mths_ex_med",
          "policy_code",
          "application_type",
          "cat_delinq_2yrs",
          "cat_inq_last_6mths"
         ],
         "yaxis": "y",
         "z": [
          [
           1,
           0.9940693136098843,
           0.08534587087489853,
           0.14164894084926163,
           0.17364068338466776,
           0.0556766135029681,
           0.14186611474368876,
           null,
           null,
           null,
           null,
           0.0739693687466996,
           null,
           null,
           null,
           null,
           null,
           0.20110830676251085,
           null,
           0.15854282702490327,
           0.10642652021025945,
           0.46058927904334734,
           0.46064132394068386,
           -0.16415044523454078,
           -0.08675675106347808,
           -0.18454954599626436,
           -0.013013641531737006,
           -0.05063858810548002,
           -0.026823522024447072,
           -0.01980259492954547,
           -0.01654431102440954,
           null,
           0.07148155025623683,
           null,
           null,
           0.05986478380207816,
           -0.10005619578207339
          ],
          [
           0.9940693136098843,
           1,
           0.09054101337584364,
           0.14769103997850944,
           0.18118716801684842,
           0.060028217627666934,
           0.14815939223988184,
           null,
           null,
           null,
           null,
           0.07586825678330823,
           null,
           null,
           null,
           null,
           null,
           0.2032318832456498,
           null,
           0.16004778117545854,
           0.10589450530176334,
           0.47137137927563055,
           0.47142461318064194,
           -0.15627551022044997,
           -0.07733788243625542,
           -0.17833748802381022,
           -0.0049891935697033195,
           -0.052516504882003504,
           -0.02678657847908954,
           -0.020571077312380472,
           -0.012595337169052893,
           null,
           0.0697195183439677,
           null,
           null,
           0.06056478313940028,
           -0.1040803992955653
          ],
          [
           0.08534587087489853,
           0.09054101337584364,
           1,
           0.6385993715958785,
           0.603655973159041,
           0.08978485154552476,
           0.5809412399914327,
           null,
           null,
           null,
           null,
           0.3003168130695418,
           null,
           null,
           null,
           null,
           null,
           0.08989065080781962,
           null,
           0.1794036637312285,
           0.17840745661926802,
           0.16103907410774013,
           0.16104581281391728,
           0.5440904234404371,
           0.47420673371179806,
           0.4343393786690346,
           0.5092922522224298,
           0.016312729926641407,
           0.06402218770993368,
           0.040915701774610305,
           0.2168350579287904,
           null,
           0.0019326911557970398,
           null,
           null,
           0.003432148018683002,
           -0.03902878154168071
          ],
          [
           0.14164894084926163,
           0.14769103997850944,
           0.6385993715958785,
           1,
           0.920681670488373,
           0.1941968359255457,
           0.8944391224143431,
           null,
           null,
           null,
           null,
           0.4519097537695604,
           null,
           null,
           null,
           null,
           null,
           0.09643377418330351,
           null,
           0.22051062896297943,
           0.23733113036395914,
           0.2204941297665053,
           0.22054077744703177,
           0.6848043062656372,
           0.6012021990780285,
           0.5326147628726018,
           0.6627870817122232,
           0.030657282156748743,
           0.1058914531779162,
           0.06302161483774296,
           0.3241432283361607,
           null,
           0.0034411215537869036,
           null,
           null,
           0.01866615901129316,
           -0.03616015113140288
          ],
          [
           0.17364068338466776,
           0.18118716801684842,
           0.603655973159041,
           0.920681670488373,
           1,
           0.21293526455310283,
           0.9344668621704468,
           null,
           null,
           null,
           null,
           0.470394630706417,
           null,
           null,
           null,
           null,
           null,
           0.11081031119005313,
           null,
           0.23269303716258039,
           0.24864320282098704,
           0.2527256600350228,
           0.2527535988302472,
           0.7046816982749925,
           0.6737502025804308,
           0.5459114650449904,
           0.6877802427614251,
           0.01683470657805082,
           0.10776324448082246,
           0.05916830871582621,
           0.3447352865491953,
           null,
           0.0046084526255773944,
           null,
           null,
           0.019939706470288397,
           -0.054223261996464475
          ],
          [
           0.0556766135029681,
           0.060028217627666934,
           0.08978485154552476,
           0.1941968359255457,
           0.21293526455310283,
           1,
           0.1929718533538512,
           null,
           null,
           null,
           null,
           0.008427843803342355,
           null,
           null,
           null,
           null,
           null,
           0.17094880887031846,
           null,
           0.024512822050448448,
           -0.01511255481959086,
           0.11375772502244687,
           0.11378604270470946,
           0.09537985132848038,
           0.09954100782420594,
           -0.07250426432859552,
           0.4076055017094841,
           0.04899430923307931,
           0.10988631845302851,
           0.057830780257071036,
           0.10208450717771934,
           null,
           0.03478467367302239,
           null,
           null,
           0.11090461393418197,
           0.2007242955462753
          ],
          [
           0.14186611474368876,
           0.14815939223988184,
           0.5809412399914327,
           0.8944391224143431,
           0.9344668621704468,
           0.1929718533538512,
           1,
           null,
           null,
           null,
           null,
           0.4779576477900374,
           null,
           null,
           null,
           null,
           null,
           0.09219744902531227,
           null,
           0.2269760851839994,
           0.23213331163795983,
           0.19392295389898512,
           0.19391713758537488,
           0.7178346837823656,
           0.624514407673176,
           0.5840891899267264,
           0.6444550872930519,
           0.03925157250611888,
           0.10815849322307612,
           0.06772352112826019,
           0.3306579834484965,
           null,
           0.005332418384699959,
           null,
           null,
           0.03153387273037692,
           -0.012469053813285492
          ],
          [
           null,
           null,
           null,
           null,
           null,
           null,
           null,
           null,
           null,
           null,
           null,
           null,
           null,
           null,
           null,
           null,
           null,
           null,
           null,
           null,
           null,
           null,
           null,
           null,
           null,
           null,
           null,
           null,
           null,
           null,
           null,
           null,
           null,
           null,
           null,
           null,
           null
          ],
          [
           null,
           null,
           null,
           null,
           null,
           null,
           null,
           null,
           null,
           null,
           null,
           null,
           null,
           null,
           null,
           null,
           null,
           null,
           null,
           null,
           null,
           null,
           null,
           null,
           null,
           null,
           null,
           null,
           null,
           null,
           null,
           null,
           null,
           null,
           null,
           null,
           null
          ],
          [
           null,
           null,
           null,
           null,
           null,
           null,
           null,
           null,
           null,
           null,
           null,
           null,
           null,
           null,
           null,
           null,
           null,
           null,
           null,
           null,
           null,
           null,
           null,
           null,
           null,
           null,
           null,
           null,
           null,
           null,
           null,
           null,
           null,
           null,
           null,
           null,
           null
          ],
          [
           null,
           null,
           null,
           null,
           null,
           null,
           null,
           null,
           null,
           null,
           null,
           null,
           null,
           null,
           null,
           null,
           null,
           null,
           null,
           null,
           null,
           null,
           null,
           null,
           null,
           null,
           null,
           null,
           null,
           null,
           null,
           null,
           null,
           null,
           null,
           null,
           null
          ],
          [
           0.0739693687466996,
           0.07586825678330823,
           0.3003168130695418,
           0.4519097537695604,
           0.470394630706417,
           0.008427843803342355,
           0.4779576477900374,
           null,
           null,
           null,
           null,
           1,
           null,
           null,
           null,
           null,
           null,
           -0.14520088592626673,
           null,
           0.2796400707824271,
           0.36333810610807876,
           0.08157251265092169,
           0.08154732929257368,
           0.3934838023858396,
           0.33922636165222464,
           0.34281361526960646,
           0.2944001046327515,
           0.008780711171536469,
           0.03323805528364553,
           0.022840001182875293,
           0.20425104488890364,
           null,
           0.009627493883816795,
           null,
           null,
           0.07530719076326892,
           0.06561863544046556
          ],
          [
           null,
           null,
           null,
           null,
           null,
           null,
           null,
           null,
           null,
           null,
           null,
           null,
           null,
           null,
           null,
           null,
           null,
           null,
           null,
           null,
           null,
           null,
           null,
           null,
           null,
           null,
           null,
           null,
           null,
           null,
           null,
           null,
           null,
           null,
           null,
           null,
           null
          ],
          [
           null,
           null,
           null,
           null,
           null,
           null,
           null,
           null,
           null,
           null,
           null,
           null,
           null,
           null,
           null,
           null,
           null,
           null,
           null,
           null,
           null,
           null,
           null,
           null,
           null,
           null,
           null,
           null,
           null,
           null,
           null,
           null,
           null,
           null,
           null,
           null,
           null
          ],
          [
           null,
           null,
           null,
           null,
           null,
           null,
           null,
           null,
           null,
           null,
           null,
           null,
           null,
           null,
           null,
           null,
           null,
           null,
           null,
           null,
           null,
           null,
           null,
           null,
           null,
           null,
           null,
           null,
           null,
           null,
           null,
           null,
           null,
           null,
           null,
           null,
           null
          ],
          [
           null,
           null,
           null,
           null,
           null,
           null,
           null,
           null,
           null,
           null,
           null,
           null,
           null,
           null,
           null,
           null,
           null,
           null,
           null,
           null,
           null,
           null,
           null,
           null,
           null,
           null,
           null,
           null,
           null,
           null,
           null,
           null,
           null,
           null,
           null,
           null,
           null
          ],
          [
           null,
           null,
           null,
           null,
           null,
           null,
           null,
           null,
           null,
           null,
           null,
           null,
           null,
           null,
           null,
           null,
           null,
           null,
           null,
           null,
           null,
           null,
           null,
           null,
           null,
           null,
           null,
           null,
           null,
           null,
           null,
           null,
           null,
           null,
           null,
           null,
           null
          ],
          [
           0.20110830676251085,
           0.2032318832456498,
           0.08989065080781962,
           0.09643377418330351,
           0.11081031119005313,
           0.17094880887031846,
           0.09219744902531227,
           null,
           null,
           null,
           null,
           -0.14520088592626673,
           null,
           null,
           null,
           null,
           null,
           1,
           null,
           0.3609010382966087,
           0.25351517340405916,
           0.1907318602152852,
           0.1907469936491416,
           0.011329921475484674,
           0.03533889930184564,
           -0.03210427300922348,
           0.13472813348115129,
           -0.021247710343983033,
           0.015381077496498315,
           0.0031723529741403194,
           -0.010050646200794617,
           null,
           0.013453399597494744,
           null,
           null,
           0.0002506136841876629,
           -0.01711381889018309
          ],
          [
           null,
           null,
           null,
           null,
           null,
           null,
           null,
           null,
           null,
           null,
           null,
           null,
           null,
           null,
           null,
           null,
           null,
           null,
           null,
           null,
           null,
           null,
           null,
           null,
           null,
           null,
           null,
           null,
           null,
           null,
           null,
           null,
           null,
           null,
           null,
           null,
           null
          ],
          [
           0.15854282702490327,
           0.16004778117545854,
           0.1794036637312285,
           0.22051062896297943,
           0.23269303716258039,
           0.024512822050448448,
           0.2269760851839994,
           null,
           null,
           null,
           null,
           0.2796400707824271,
           null,
           null,
           null,
           null,
           null,
           0.3609010382966087,
           null,
           1,
           0.6688724988012241,
           0.14467995404582945,
           0.14467617695233204,
           0.166678504180395,
           0.15854193756679302,
           0.13736332927578282,
           0.1662848495711119,
           -0.03181511670626206,
           0.007444210913543008,
           0.0032591918594680864,
           0.08142549078636185,
           null,
           0.019941302013505795,
           null,
           null,
           0.05435377137855413,
           0.09187722130195669
          ],
          [
           0.10642652021025945,
           0.10589450530176334,
           0.17840745661926802,
           0.23733113036395914,
           0.24864320282098704,
           -0.01511255481959086,
           0.23213331163795983,
           null,
           null,
           null,
           null,
           0.36333810610807876,
           null,
           null,
           null,
           null,
           null,
           0.25351517340405916,
           null,
           0.6688724988012241,
           1,
           0.06502106486040071,
           0.0650018554119695,
           0.18109874199517642,
           0.16761119602333993,
           0.15950385474706938,
           0.13058130459701595,
           -0.023044816924017553,
           0.01616906498491882,
           0.0115558949835459,
           0.13126075690048922,
           null,
           0.0170871097454052,
           null,
           null,
           0.11067004540272306,
           0.1332446644520092
          ],
          [
           0.46058927904334734,
           0.47137137927563055,
           0.16103907410774013,
           0.2204941297665053,
           0.2527256600350228,
           0.11375772502244687,
           0.19392295389898512,
           null,
           null,
           null,
           null,
           0.08157251265092169,
           null,
           null,
           null,
           null,
           null,
           0.1907318602152852,
           null,
           0.14467995404582945,
           0.06502106486040071,
           1,
           0.999996172054103,
           -0.0043062732453722,
           0.04604025631872616,
           -0.08652780720284362,
           0.340285182617751,
           -0.037686520127958395,
           -0.113112536068697,
           -0.06864554014977509,
           -0.38183534087424925,
           null,
           0.03240413446433117,
           null,
           null,
           0.0626620778595278,
           -0.13191826949541088
          ],
          [
           0.46064132394068386,
           0.47142461318064194,
           0.16104581281391728,
           0.22054077744703177,
           0.2527535988302472,
           0.11378604270470946,
           0.19391713758537488,
           null,
           null,
           null,
           null,
           0.08154732929257368,
           null,
           null,
           null,
           null,
           null,
           0.1907469936491416,
           null,
           0.14467617695233204,
           0.0650018554119695,
           0.999996172054103,
           1,
           -0.004352969317547656,
           0.046033710427761214,
           -0.08657260413690346,
           0.3402492946915032,
           -0.037694687906969525,
           -0.11311087355892385,
           -0.06864453120872047,
           -0.3818299497509017,
           null,
           0.03240697718273646,
           null,
           null,
           0.06265452554999208,
           -0.13189391723637234
          ],
          [
           -0.16415044523454078,
           -0.15627551022044997,
           0.5440904234404371,
           0.6848043062656372,
           0.7046816982749925,
           0.09537985132848038,
           0.7178346837823656,
           null,
           null,
           null,
           null,
           0.3934838023858396,
           null,
           null,
           null,
           null,
           null,
           0.011329921475484674,
           null,
           0.166678504180395,
           0.18109874199517642,
           -0.0043062732453722,
           -0.004352969317547656,
           1,
           0.861713631812158,
           0.9337796750280604,
           0.7253074622030389,
           0.004145836830154869,
           -0.008526114720731504,
           0.01772109729833,
           0.45521902854735163,
           null,
           -0.019093783200570247,
           null,
           null,
           -0.0017203941796666588,
           -0.027641153399555734
          ],
          [
           -0.08675675106347808,
           -0.07733788243625542,
           0.47420673371179806,
           0.6012021990780285,
           0.6737502025804308,
           0.09954100782420594,
           0.624514407673176,
           null,
           null,
           null,
           null,
           0.33922636165222464,
           null,
           null,
           null,
           null,
           null,
           0.03533889930184564,
           null,
           0.15854193756679302,
           0.16761119602333993,
           0.04604025631872616,
           0.046033710427761214,
           0.861713631812158,
           1,
           0.7985145666005278,
           0.6387811046935452,
           -0.028721259734170994,
           -0.010552257219402832,
           0.006995233960198347,
           0.3954706580505457,
           null,
           -0.01201752033262634,
           null,
           null,
           0.0001920136689882968,
           -0.0650407797586536
          ],
          [
           -0.18454954599626436,
           -0.17833748802381022,
           0.4343393786690346,
           0.5326147628726018,
           0.5459114650449904,
           -0.07250426432859552,
           0.5840891899267264,
           null,
           null,
           null,
           null,
           0.34281361526960646,
           null,
           null,
           null,
           null,
           null,
           -0.03210427300922348,
           null,
           0.13736332927578282,
           0.15950385474706938,
           -0.08652780720284362,
           -0.08657260413690346,
           0.9337796750280604,
           0.7985145666005278,
           1,
           0.573732002648815,
           -0.023445244756864183,
           -0.17598209140198356,
           -0.0862743623919561,
           0.4898228166874762,
           null,
           -0.023919981894752695,
           null,
           null,
           -0.019173270338062442,
           -0.04509004294635479
          ],
          [
           -0.013013641531737006,
           -0.0049891935697033195,
           0.5092922522224298,
           0.6627870817122232,
           0.6877802427614251,
           0.4076055017094841,
           0.6444550872930519,
           null,
           null,
           null,
           null,
           0.2944001046327515,
           null,
           null,
           null,
           null,
           null,
           0.13472813348115129,
           null,
           0.1662848495711119,
           0.13058130459701595,
           0.340285182617751,
           0.3402492946915032,
           0.7253074622030389,
           0.6387811046935452,
           0.573732002648815,
           1,
           0.050023618009217924,
           0.02348486578144266,
           0.02307911996620253,
           0.06747095001534896,
           null,
           -0.00306395779723363,
           null,
           null,
           0.04612629084701136,
           0.004217922734596876
          ],
          [
           -0.05063858810548002,
           -0.052516504882003504,
           0.016312729926641407,
           0.030657282156748743,
           0.01683470657805082,
           0.04899430923307931,
           0.03925157250611888,
           null,
           null,
           null,
           null,
           0.008780711171536469,
           null,
           null,
           null,
           null,
           null,
           -0.021247710343983033,
           null,
           -0.03181511670626206,
           -0.023044816924017553,
           -0.037686520127958395,
           -0.037694687906969525,
           0.004145836830154869,
           -0.028721259734170994,
           -0.023445244756864183,
           0.050023618009217924,
           1,
           0.09609986957391563,
           0.10160923795727408,
           -0.04990189476024689,
           null,
           -0.002452632409098078,
           null,
           null,
           0.02508950764887025,
           0.042205947126528615
          ],
          [
           -0.026823522024447072,
           -0.02678657847908954,
           0.06402218770993368,
           0.1058914531779162,
           0.10776324448082246,
           0.10988631845302851,
           0.10815849322307612,
           null,
           null,
           null,
           null,
           0.03323805528364553,
           null,
           null,
           null,
           null,
           null,
           0.015381077496498315,
           null,
           0.007444210913543008,
           0.01616906498491882,
           -0.113112536068697,
           -0.11311087355892385,
           -0.008526114720731504,
           -0.010552257219402832,
           -0.17598209140198356,
           0.02348486578144266,
           0.09609986957391563,
           1,
           0.7997248732861781,
           -0.07313443055613715,
           null,
           -0.0018799483747199575,
           null,
           null,
           0.008940361883793426,
           0.03371485466580742
          ],
          [
           -0.01980259492954547,
           -0.020571077312380472,
           0.040915701774610305,
           0.06302161483774296,
           0.05916830871582621,
           0.057830780257071036,
           0.06772352112826019,
           null,
           null,
           null,
           null,
           0.022840001182875293,
           null,
           null,
           null,
           null,
           null,
           0.0031723529741403194,
           null,
           0.0032591918594680864,
           0.0115558949835459,
           -0.06864554014977509,
           -0.06864453120872047,
           0.01772109729833,
           0.006995233960198347,
           -0.0862743623919561,
           0.02307911996620253,
           0.10160923795727408,
           0.7997248732861781,
           1,
           -0.044176935379776024,
           null,
           -0.0014227148389107083,
           null,
           null,
           0.006766462386423548,
           0.022289331590701872
          ],
          [
           -0.01654431102440954,
           -0.012595337169052893,
           0.2168350579287904,
           0.3241432283361607,
           0.3447352865491953,
           0.10208450717771934,
           0.3306579834484965,
           null,
           null,
           null,
           null,
           0.20425104488890364,
           null,
           null,
           null,
           null,
           null,
           -0.010050646200794617,
           null,
           0.08142549078636185,
           0.13126075690048922,
           -0.38183534087424925,
           -0.3818299497509017,
           0.45521902854735163,
           0.3954706580505457,
           0.4898228166874762,
           0.06747095001534896,
           -0.04990189476024689,
           -0.07313443055613715,
           -0.044176935379776024,
           1,
           null,
           -0.0003378743774665087,
           null,
           null,
           -0.0027122885079549058,
           0.03207786717488686
          ],
          [
           null,
           null,
           null,
           null,
           null,
           null,
           null,
           null,
           null,
           null,
           null,
           null,
           null,
           null,
           null,
           null,
           null,
           null,
           null,
           null,
           null,
           null,
           null,
           null,
           null,
           null,
           null,
           null,
           null,
           null,
           null,
           null,
           null,
           null,
           null,
           null,
           null
          ],
          [
           0.07148155025623683,
           0.0697195183439677,
           0.0019326911557970398,
           0.0034411215537869036,
           0.0046084526255773944,
           0.03478467367302239,
           0.005332418384699959,
           null,
           null,
           null,
           null,
           0.009627493883816795,
           null,
           null,
           null,
           null,
           null,
           0.013453399597494744,
           null,
           0.019941302013505795,
           0.0170871097454052,
           0.03240413446433117,
           0.03240697718273646,
           -0.019093783200570247,
           -0.01201752033262634,
           -0.023919981894752695,
           -0.00306395779723363,
           -0.002452632409098078,
           -0.0018799483747199575,
           -0.0014227148389107083,
           -0.0003378743774665087,
           null,
           1,
           null,
           null,
           0.03233471316580456,
           -0.00764979618821953
          ],
          [
           null,
           null,
           null,
           null,
           null,
           null,
           null,
           null,
           null,
           null,
           null,
           null,
           null,
           null,
           null,
           null,
           null,
           null,
           null,
           null,
           null,
           null,
           null,
           null,
           null,
           null,
           null,
           null,
           null,
           null,
           null,
           null,
           null,
           null,
           null,
           null,
           null
          ],
          [
           null,
           null,
           null,
           null,
           null,
           null,
           null,
           null,
           null,
           null,
           null,
           null,
           null,
           null,
           null,
           null,
           null,
           null,
           null,
           null,
           null,
           null,
           null,
           null,
           null,
           null,
           null,
           null,
           null,
           null,
           null,
           null,
           null,
           null,
           null,
           null,
           null
          ],
          [
           0.05986478380207816,
           0.06056478313940028,
           0.003432148018683002,
           0.01866615901129316,
           0.019939706470288397,
           0.11090461393418197,
           0.03153387273037692,
           null,
           null,
           null,
           null,
           0.07530719076326892,
           null,
           null,
           null,
           null,
           null,
           0.0002506136841876629,
           null,
           0.05435377137855413,
           0.11067004540272306,
           0.0626620778595278,
           0.06265452554999208,
           -0.0017203941796666588,
           0.0001920136689882968,
           -0.019173270338062442,
           0.04612629084701136,
           0.02508950764887025,
           0.008940361883793426,
           0.006766462386423548,
           -0.0027122885079549058,
           null,
           0.03233471316580456,
           null,
           null,
           1,
           0.005375313970038898
          ],
          [
           -0.10005619578207339,
           -0.1040803992955653,
           -0.03902878154168071,
           -0.03616015113140288,
           -0.054223261996464475,
           0.2007242955462753,
           -0.012469053813285492,
           null,
           null,
           null,
           null,
           0.06561863544046556,
           null,
           null,
           null,
           null,
           null,
           -0.01711381889018309,
           null,
           0.09187722130195669,
           0.1332446644520092,
           -0.13191826949541088,
           -0.13189391723637234,
           -0.027641153399555734,
           -0.0650407797586536,
           -0.04509004294635479,
           0.004217922734596876,
           0.042205947126528615,
           0.03371485466580742,
           0.022289331590701872,
           0.03207786717488686,
           null,
           -0.00764979618821953,
           null,
           null,
           0.005375313970038898,
           1
          ]
         ]
        }
       ],
       "layout": {
        "coloraxis": {
         "colorscale": [
          [
           0,
           "#0d0887"
          ],
          [
           0.1111111111111111,
           "#46039f"
          ],
          [
           0.2222222222222222,
           "#7201a8"
          ],
          [
           0.3333333333333333,
           "#9c179e"
          ],
          [
           0.4444444444444444,
           "#bd3786"
          ],
          [
           0.5555555555555556,
           "#d8576b"
          ],
          [
           0.6666666666666666,
           "#ed7953"
          ],
          [
           0.7777777777777778,
           "#fb9f3a"
          ],
          [
           0.8888888888888888,
           "#fdca26"
          ],
          [
           1,
           "#f0f921"
          ]
         ]
        },
        "template": {
         "data": {
          "bar": [
           {
            "error_x": {
             "color": "#2a3f5f"
            },
            "error_y": {
             "color": "#2a3f5f"
            },
            "marker": {
             "line": {
              "color": "#E5ECF6",
              "width": 0.5
             },
             "pattern": {
              "fillmode": "overlay",
              "size": 10,
              "solidity": 0.2
             }
            },
            "type": "bar"
           }
          ],
          "barpolar": [
           {
            "marker": {
             "line": {
              "color": "#E5ECF6",
              "width": 0.5
             },
             "pattern": {
              "fillmode": "overlay",
              "size": 10,
              "solidity": 0.2
             }
            },
            "type": "barpolar"
           }
          ],
          "carpet": [
           {
            "aaxis": {
             "endlinecolor": "#2a3f5f",
             "gridcolor": "white",
             "linecolor": "white",
             "minorgridcolor": "white",
             "startlinecolor": "#2a3f5f"
            },
            "baxis": {
             "endlinecolor": "#2a3f5f",
             "gridcolor": "white",
             "linecolor": "white",
             "minorgridcolor": "white",
             "startlinecolor": "#2a3f5f"
            },
            "type": "carpet"
           }
          ],
          "choropleth": [
           {
            "colorbar": {
             "outlinewidth": 0,
             "ticks": ""
            },
            "type": "choropleth"
           }
          ],
          "contour": [
           {
            "colorbar": {
             "outlinewidth": 0,
             "ticks": ""
            },
            "colorscale": [
             [
              0,
              "#0d0887"
             ],
             [
              0.1111111111111111,
              "#46039f"
             ],
             [
              0.2222222222222222,
              "#7201a8"
             ],
             [
              0.3333333333333333,
              "#9c179e"
             ],
             [
              0.4444444444444444,
              "#bd3786"
             ],
             [
              0.5555555555555556,
              "#d8576b"
             ],
             [
              0.6666666666666666,
              "#ed7953"
             ],
             [
              0.7777777777777778,
              "#fb9f3a"
             ],
             [
              0.8888888888888888,
              "#fdca26"
             ],
             [
              1,
              "#f0f921"
             ]
            ],
            "type": "contour"
           }
          ],
          "contourcarpet": [
           {
            "colorbar": {
             "outlinewidth": 0,
             "ticks": ""
            },
            "type": "contourcarpet"
           }
          ],
          "heatmap": [
           {
            "colorbar": {
             "outlinewidth": 0,
             "ticks": ""
            },
            "colorscale": [
             [
              0,
              "#0d0887"
             ],
             [
              0.1111111111111111,
              "#46039f"
             ],
             [
              0.2222222222222222,
              "#7201a8"
             ],
             [
              0.3333333333333333,
              "#9c179e"
             ],
             [
              0.4444444444444444,
              "#bd3786"
             ],
             [
              0.5555555555555556,
              "#d8576b"
             ],
             [
              0.6666666666666666,
              "#ed7953"
             ],
             [
              0.7777777777777778,
              "#fb9f3a"
             ],
             [
              0.8888888888888888,
              "#fdca26"
             ],
             [
              1,
              "#f0f921"
             ]
            ],
            "type": "heatmap"
           }
          ],
          "heatmapgl": [
           {
            "colorbar": {
             "outlinewidth": 0,
             "ticks": ""
            },
            "colorscale": [
             [
              0,
              "#0d0887"
             ],
             [
              0.1111111111111111,
              "#46039f"
             ],
             [
              0.2222222222222222,
              "#7201a8"
             ],
             [
              0.3333333333333333,
              "#9c179e"
             ],
             [
              0.4444444444444444,
              "#bd3786"
             ],
             [
              0.5555555555555556,
              "#d8576b"
             ],
             [
              0.6666666666666666,
              "#ed7953"
             ],
             [
              0.7777777777777778,
              "#fb9f3a"
             ],
             [
              0.8888888888888888,
              "#fdca26"
             ],
             [
              1,
              "#f0f921"
             ]
            ],
            "type": "heatmapgl"
           }
          ],
          "histogram": [
           {
            "marker": {
             "pattern": {
              "fillmode": "overlay",
              "size": 10,
              "solidity": 0.2
             }
            },
            "type": "histogram"
           }
          ],
          "histogram2d": [
           {
            "colorbar": {
             "outlinewidth": 0,
             "ticks": ""
            },
            "colorscale": [
             [
              0,
              "#0d0887"
             ],
             [
              0.1111111111111111,
              "#46039f"
             ],
             [
              0.2222222222222222,
              "#7201a8"
             ],
             [
              0.3333333333333333,
              "#9c179e"
             ],
             [
              0.4444444444444444,
              "#bd3786"
             ],
             [
              0.5555555555555556,
              "#d8576b"
             ],
             [
              0.6666666666666666,
              "#ed7953"
             ],
             [
              0.7777777777777778,
              "#fb9f3a"
             ],
             [
              0.8888888888888888,
              "#fdca26"
             ],
             [
              1,
              "#f0f921"
             ]
            ],
            "type": "histogram2d"
           }
          ],
          "histogram2dcontour": [
           {
            "colorbar": {
             "outlinewidth": 0,
             "ticks": ""
            },
            "colorscale": [
             [
              0,
              "#0d0887"
             ],
             [
              0.1111111111111111,
              "#46039f"
             ],
             [
              0.2222222222222222,
              "#7201a8"
             ],
             [
              0.3333333333333333,
              "#9c179e"
             ],
             [
              0.4444444444444444,
              "#bd3786"
             ],
             [
              0.5555555555555556,
              "#d8576b"
             ],
             [
              0.6666666666666666,
              "#ed7953"
             ],
             [
              0.7777777777777778,
              "#fb9f3a"
             ],
             [
              0.8888888888888888,
              "#fdca26"
             ],
             [
              1,
              "#f0f921"
             ]
            ],
            "type": "histogram2dcontour"
           }
          ],
          "mesh3d": [
           {
            "colorbar": {
             "outlinewidth": 0,
             "ticks": ""
            },
            "type": "mesh3d"
           }
          ],
          "parcoords": [
           {
            "line": {
             "colorbar": {
              "outlinewidth": 0,
              "ticks": ""
             }
            },
            "type": "parcoords"
           }
          ],
          "pie": [
           {
            "automargin": true,
            "type": "pie"
           }
          ],
          "scatter": [
           {
            "fillpattern": {
             "fillmode": "overlay",
             "size": 10,
             "solidity": 0.2
            },
            "type": "scatter"
           }
          ],
          "scatter3d": [
           {
            "line": {
             "colorbar": {
              "outlinewidth": 0,
              "ticks": ""
             }
            },
            "marker": {
             "colorbar": {
              "outlinewidth": 0,
              "ticks": ""
             }
            },
            "type": "scatter3d"
           }
          ],
          "scattercarpet": [
           {
            "marker": {
             "colorbar": {
              "outlinewidth": 0,
              "ticks": ""
             }
            },
            "type": "scattercarpet"
           }
          ],
          "scattergeo": [
           {
            "marker": {
             "colorbar": {
              "outlinewidth": 0,
              "ticks": ""
             }
            },
            "type": "scattergeo"
           }
          ],
          "scattergl": [
           {
            "marker": {
             "colorbar": {
              "outlinewidth": 0,
              "ticks": ""
             }
            },
            "type": "scattergl"
           }
          ],
          "scattermapbox": [
           {
            "marker": {
             "colorbar": {
              "outlinewidth": 0,
              "ticks": ""
             }
            },
            "type": "scattermapbox"
           }
          ],
          "scatterpolar": [
           {
            "marker": {
             "colorbar": {
              "outlinewidth": 0,
              "ticks": ""
             }
            },
            "type": "scatterpolar"
           }
          ],
          "scatterpolargl": [
           {
            "marker": {
             "colorbar": {
              "outlinewidth": 0,
              "ticks": ""
             }
            },
            "type": "scatterpolargl"
           }
          ],
          "scatterternary": [
           {
            "marker": {
             "colorbar": {
              "outlinewidth": 0,
              "ticks": ""
             }
            },
            "type": "scatterternary"
           }
          ],
          "surface": [
           {
            "colorbar": {
             "outlinewidth": 0,
             "ticks": ""
            },
            "colorscale": [
             [
              0,
              "#0d0887"
             ],
             [
              0.1111111111111111,
              "#46039f"
             ],
             [
              0.2222222222222222,
              "#7201a8"
             ],
             [
              0.3333333333333333,
              "#9c179e"
             ],
             [
              0.4444444444444444,
              "#bd3786"
             ],
             [
              0.5555555555555556,
              "#d8576b"
             ],
             [
              0.6666666666666666,
              "#ed7953"
             ],
             [
              0.7777777777777778,
              "#fb9f3a"
             ],
             [
              0.8888888888888888,
              "#fdca26"
             ],
             [
              1,
              "#f0f921"
             ]
            ],
            "type": "surface"
           }
          ],
          "table": [
           {
            "cells": {
             "fill": {
              "color": "#EBF0F8"
             },
             "line": {
              "color": "white"
             }
            },
            "header": {
             "fill": {
              "color": "#C8D4E3"
             },
             "line": {
              "color": "white"
             }
            },
            "type": "table"
           }
          ]
         },
         "layout": {
          "annotationdefaults": {
           "arrowcolor": "#2a3f5f",
           "arrowhead": 0,
           "arrowwidth": 1
          },
          "autotypenumbers": "strict",
          "coloraxis": {
           "colorbar": {
            "outlinewidth": 0,
            "ticks": ""
           }
          },
          "colorscale": {
           "diverging": [
            [
             0,
             "#8e0152"
            ],
            [
             0.1,
             "#c51b7d"
            ],
            [
             0.2,
             "#de77ae"
            ],
            [
             0.3,
             "#f1b6da"
            ],
            [
             0.4,
             "#fde0ef"
            ],
            [
             0.5,
             "#f7f7f7"
            ],
            [
             0.6,
             "#e6f5d0"
            ],
            [
             0.7,
             "#b8e186"
            ],
            [
             0.8,
             "#7fbc41"
            ],
            [
             0.9,
             "#4d9221"
            ],
            [
             1,
             "#276419"
            ]
           ],
           "sequential": [
            [
             0,
             "#0d0887"
            ],
            [
             0.1111111111111111,
             "#46039f"
            ],
            [
             0.2222222222222222,
             "#7201a8"
            ],
            [
             0.3333333333333333,
             "#9c179e"
            ],
            [
             0.4444444444444444,
             "#bd3786"
            ],
            [
             0.5555555555555556,
             "#d8576b"
            ],
            [
             0.6666666666666666,
             "#ed7953"
            ],
            [
             0.7777777777777778,
             "#fb9f3a"
            ],
            [
             0.8888888888888888,
             "#fdca26"
            ],
            [
             1,
             "#f0f921"
            ]
           ],
           "sequentialminus": [
            [
             0,
             "#0d0887"
            ],
            [
             0.1111111111111111,
             "#46039f"
            ],
            [
             0.2222222222222222,
             "#7201a8"
            ],
            [
             0.3333333333333333,
             "#9c179e"
            ],
            [
             0.4444444444444444,
             "#bd3786"
            ],
            [
             0.5555555555555556,
             "#d8576b"
            ],
            [
             0.6666666666666666,
             "#ed7953"
            ],
            [
             0.7777777777777778,
             "#fb9f3a"
            ],
            [
             0.8888888888888888,
             "#fdca26"
            ],
            [
             1,
             "#f0f921"
            ]
           ]
          },
          "colorway": [
           "#636efa",
           "#EF553B",
           "#00cc96",
           "#ab63fa",
           "#FFA15A",
           "#19d3f3",
           "#FF6692",
           "#B6E880",
           "#FF97FF",
           "#FECB52"
          ],
          "font": {
           "color": "#2a3f5f"
          },
          "geo": {
           "bgcolor": "white",
           "lakecolor": "white",
           "landcolor": "#E5ECF6",
           "showlakes": true,
           "showland": true,
           "subunitcolor": "white"
          },
          "hoverlabel": {
           "align": "left"
          },
          "hovermode": "closest",
          "mapbox": {
           "style": "light"
          },
          "paper_bgcolor": "white",
          "plot_bgcolor": "#E5ECF6",
          "polar": {
           "angularaxis": {
            "gridcolor": "white",
            "linecolor": "white",
            "ticks": ""
           },
           "bgcolor": "#E5ECF6",
           "radialaxis": {
            "gridcolor": "white",
            "linecolor": "white",
            "ticks": ""
           }
          },
          "scene": {
           "xaxis": {
            "backgroundcolor": "#E5ECF6",
            "gridcolor": "white",
            "gridwidth": 2,
            "linecolor": "white",
            "showbackground": true,
            "ticks": "",
            "zerolinecolor": "white"
           },
           "yaxis": {
            "backgroundcolor": "#E5ECF6",
            "gridcolor": "white",
            "gridwidth": 2,
            "linecolor": "white",
            "showbackground": true,
            "ticks": "",
            "zerolinecolor": "white"
           },
           "zaxis": {
            "backgroundcolor": "#E5ECF6",
            "gridcolor": "white",
            "gridwidth": 2,
            "linecolor": "white",
            "showbackground": true,
            "ticks": "",
            "zerolinecolor": "white"
           }
          },
          "shapedefaults": {
           "line": {
            "color": "#2a3f5f"
           }
          },
          "ternary": {
           "aaxis": {
            "gridcolor": "white",
            "linecolor": "white",
            "ticks": ""
           },
           "baxis": {
            "gridcolor": "white",
            "linecolor": "white",
            "ticks": ""
           },
           "bgcolor": "#E5ECF6",
           "caxis": {
            "gridcolor": "white",
            "linecolor": "white",
            "ticks": ""
           }
          },
          "title": {
           "x": 0.05
          },
          "xaxis": {
           "automargin": true,
           "gridcolor": "white",
           "linecolor": "white",
           "ticks": "",
           "title": {
            "standoff": 15
           },
           "zerolinecolor": "white",
           "zerolinewidth": 2
          },
          "yaxis": {
           "automargin": true,
           "gridcolor": "white",
           "linecolor": "white",
           "ticks": "",
           "title": {
            "standoff": 15
           },
           "zerolinecolor": "white",
           "zerolinewidth": 2
          }
         }
        },
        "title": {
         "text": "Correlation heatmap of dataframe"
        },
        "xaxis": {
         "anchor": "y",
         "constrain": "domain",
         "domain": [
          0,
          1
         ],
         "scaleanchor": "y"
        },
        "yaxis": {
         "anchor": "x",
         "autorange": "reversed",
         "constrain": "domain",
         "domain": [
          0,
          1
         ]
        }
       }
      }
     },
     "metadata": {},
     "output_type": "display_data"
    }
   ],
   "source": [
    "## creating a version of the df without non-numeric columns to enable to create correlation heatmap\n",
    "numeric_df = new_df.apply(pd.to_numeric, errors=\"coerce\")\n",
    "\n",
    "## creating correlation heatmap\n",
    "pl.Plotter.correlation_heatmap(numeric_df)"
   ]
  },
  {
   "cell_type": "markdown",
   "metadata": {},
   "source": [
    "Correlation threshold - >0.9\n",
    "\n",
    "These columns are highly correlated:\n",
    "- out_prncp and out_prncp_inv\n",
    "- total_rec_prncp and total_payment\n",
    "\n",
    "Decided not to drop any columns as it is possible all are needed - I would discuss this with a domain expert"
   ]
  }
 ],
 "metadata": {
  "kernelspec": {
   "display_name": "Python 3",
   "language": "python",
   "name": "python3"
  },
  "language_info": {
   "codemirror_mode": {
    "name": "ipython",
    "version": 3
   },
   "file_extension": ".py",
   "mimetype": "text/x-python",
   "name": "python",
   "nbconvert_exporter": "python",
   "pygments_lexer": "ipython3",
   "version": "3.11.7"
  }
 },
 "nbformat": 4,
 "nbformat_minor": 2
}
